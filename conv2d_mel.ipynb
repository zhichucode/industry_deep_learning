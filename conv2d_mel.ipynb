{
 "nbformat": 4,
 "nbformat_minor": 0,
 "metadata": {
  "colab": {
   "provenance": []
  },
  "kernelspec": {
   "name": "python3",
   "display_name": "Python 3"
  },
  "language_info": {
   "name": "python"
  }
 },
 "cells": [
  {
   "cell_type": "code",
   "execution_count": 1,
   "metadata": {
    "id": "2QdVYo31Otvu"
   },
   "outputs": [],
   "source": [
    "# from google.colab import drive\n",
    "# drive.mount('/gdrive')"
   ]
  },
  {
   "cell_type": "code",
   "source": [
    "import numpy as np\n",
    "import torch\n",
    "from torch import nn\n",
    "from torch.utils.data import DataLoader\n",
    "import matplotlib.pyplot as plt\n",
    "\n",
    "import librosa\n",
    "from tqdm import tqdm"
   ],
   "metadata": {
    "id": "RbEHttmAP4lw"
   },
   "execution_count": 2,
   "outputs": []
  },
  {
   "cell_type": "code",
   "source": [
    "pickle_path = 'data/pickle'"
   ],
   "metadata": {
    "id": "xhyjBcoYO2ms"
   },
   "execution_count": 3,
   "outputs": []
  },
  {
   "cell_type": "markdown",
   "source": [],
   "metadata": {
    "collapsed": false
   }
  },
  {
   "cell_type": "code",
   "source": [
    "import pickle\n",
    "def load_pickle(filename):\n",
    "    print(f'load pickle <- {filename}')\n",
    "    with open(filename, 'rb') as lf:\n",
    "        load_data = pickle.load(lf)\n",
    "    return load_data"
   ],
   "metadata": {
    "id": "0OiUsA4-Pqsw"
   },
   "execution_count": 4,
   "outputs": []
  },
  {
   "cell_type": "code",
   "source": [
    "x_list = load_pickle(pickle_path+'/x.pickle')\n",
    "y_list = load_pickle(pickle_path+'/y.pickle')\n",
    "z_list = load_pickle(pickle_path+'/z.pickle')\n",
    "combined = np.transpose((x_list,y_list,z_list))\n",
    "combined.shape"
   ],
   "metadata": {
    "colab": {
     "base_uri": "https://localhost:8080/"
    },
    "id": "dGuYXZ1KQC8z",
    "outputId": "62d21382-d621-493e-d7f2-2361a13cbad9"
   },
   "execution_count": 5,
   "outputs": [
    {
     "name": "stdout",
     "output_type": "stream",
     "text": [
      "load pickle <- data/pickle/x.pickle\n",
      "load pickle <- data/pickle/y.pickle\n",
      "load pickle <- data/pickle/z.pickle\n"
     ]
    },
    {
     "name": "stderr",
     "output_type": "stream",
     "text": [
      "2022-10-25 13:05:42.357831: I tensorflow/stream_executor/cuda/cuda_gpu_executor.cc:975] successful NUMA node read from SysFS had negative value (-1), but there must be at least one NUMA node, so returning NUMA node zero\n",
      "2022-10-25 13:05:42.448350: W tensorflow/stream_executor/platform/default/dso_loader.cc:64] Could not load dynamic library 'libcudnn.so.8'; dlerror: libcudnn.so.8: cannot open shared object file: No such file or directory\n",
      "2022-10-25 13:05:42.448366: W tensorflow/core/common_runtime/gpu/gpu_device.cc:1850] Cannot dlopen some GPU libraries. Please make sure the missing libraries mentioned above are installed properly if you would like to use GPU. Follow the guide at https://www.tensorflow.org/install/gpu for how to download and setup the required libraries for your platform.\n",
      "Skipping registering GPU devices...\n",
      "2022-10-25 13:05:42.450209: I tensorflow/core/platform/cpu_feature_guard.cc:193] This TensorFlow binary is optimized with oneAPI Deep Neural Network Library (oneDNN) to use the following CPU instructions in performance-critical operations:  AVX2 FMA\n",
      "To enable them in other operations, rebuild TensorFlow with the appropriate compiler flags.\n"
     ]
    },
    {
     "data": {
      "text/plain": "(4618332, 3)"
     },
     "execution_count": 5,
     "metadata": {},
     "output_type": "execute_result"
    }
   ]
  },
  {
   "cell_type": "code",
   "source": [
    "print(f'shape of combined data: {combined.shape}')\n",
    "cut = combined.shape[0]//1024*1024\n",
    "combined_splited = np.split(combined[:cut,:], cut/1024, axis=0)\n",
    "print(f'length of combined_splited: {len(combined_splited)}')\n",
    "print(f'first single shape: {combined_splited[0].shape}')\n",
    "print(f'last single shape: {combined_splited[-1].shape}')"
   ],
   "metadata": {
    "colab": {
     "base_uri": "https://localhost:8080/"
    },
    "id": "NJY7bSomRI-X",
    "outputId": "ba189f86-93cf-47ba-9594-7d7bbd61d1e3"
   },
   "execution_count": 6,
   "outputs": [
    {
     "name": "stdout",
     "output_type": "stream",
     "text": [
      "shape of combined data: (4618332, 3)\n",
      "length of combined_splited: 4510\n",
      "first single shape: (1024, 3)\n",
      "last single shape: (1024, 3)\n"
     ]
    }
   ]
  },
  {
   "cell_type": "code",
   "source": [
    "S = librosa.feature.melspectrogram(y=combined_splited[0][:,0], sr=1024, n_mels=1024)\n",
    "S_dB = librosa.power_to_db(S, ref=np.max)\n",
    "S_dB.shape"
   ],
   "metadata": {
    "colab": {
     "base_uri": "https://localhost:8080/"
    },
    "id": "CrOGcdZ4cgXl",
    "outputId": "203c7273-064f-40f9-fb77-4b0a1139dd5c"
   },
   "execution_count": 7,
   "outputs": [
    {
     "name": "stderr",
     "output_type": "stream",
     "text": [
      "/home/zzh/anaconda3/envs/industry_DL3/lib/python3.9/site-packages/librosa/util/decorators.py:88: UserWarning: n_fft=2048 is too small for input signal of length=1024\n",
      "  return f(*args, **kwargs)\n"
     ]
    },
    {
     "data": {
      "text/plain": "(1024, 3)"
     },
     "execution_count": 7,
     "metadata": {},
     "output_type": "execute_result"
    }
   ]
  },
  {
   "cell_type": "code",
   "execution_count": 8,
   "outputs": [
    {
     "data": {
      "text/plain": "(20, 3)"
     },
     "execution_count": 8,
     "metadata": {},
     "output_type": "execute_result"
    }
   ],
   "source": [
    "# test librosa mfcc; enlarge the shape of the result\n",
    "librosa.feature.mfcc(y=np.random.rand(1024), sr=1024, n_mels=100).shape"
   ],
   "metadata": {
    "collapsed": false
   }
  },
  {
   "cell_type": "code",
   "execution_count": 9,
   "outputs": [
    {
     "data": {
      "text/plain": "(1024, 3)"
     },
     "execution_count": 9,
     "metadata": {},
     "output_type": "execute_result"
    }
   ],
   "source": [
    "librosa.feature.mfcc(y=combined_splited[0][:,0], sr=1024, n_mfcc=20, n_fft=1024)\n",
    "S_dB.shape"
   ],
   "metadata": {
    "collapsed": false
   }
  },
  {
   "cell_type": "code",
   "source": [
    "output_list = []\n",
    "for j in tqdm(range(len(combined_splited))):\n",
    "  input_mel = combined_splited[0]\n",
    "  after_mel = []\n",
    "  for i in range(3):\n",
    "    input_axis = input_mel[:, i]\n",
    "    S = librosa.feature.melspectrogram(y=combined_splited[j][:,i], sr=1024, n_fft=1024, n_mels=128)\n",
    "    S_dB = librosa.power_to_db(S, ref=np.max)\n",
    "    after_mel.append(S_dB)\n",
    "\n",
    "  after_mel_array = np.stack(after_mel, axis=2)\n",
    "  output_list.append(after_mel_array)\n",
    "after_mel_array_array = np.stack(output_list, axis=0)"
   ],
   "metadata": {
    "colab": {
     "base_uri": "https://localhost:8080/"
    },
    "id": "0tJE7l7SVoXS",
    "outputId": "ad5db715-45ac-4291-d2aa-ae59eafe0520"
   },
   "execution_count": 10,
   "outputs": [
    {
     "name": "stderr",
     "output_type": "stream",
     "text": [
      "100%|██████████| 4510/4510 [00:18<00:00, 241.79it/s]\n"
     ]
    }
   ]
  },
  {
   "cell_type": "code",
   "execution_count": 11,
   "outputs": [
    {
     "data": {
      "text/plain": "(128, 3, 3)"
     },
     "execution_count": 11,
     "metadata": {},
     "output_type": "execute_result"
    }
   ],
   "source": [
    "output_list[0].shape"
   ],
   "metadata": {
    "collapsed": false
   }
  },
  {
   "cell_type": "code",
   "execution_count": 12,
   "outputs": [
    {
     "data": {
      "text/plain": "(4510, 3, 128, 3)"
     },
     "execution_count": 12,
     "metadata": {},
     "output_type": "execute_result"
    }
   ],
   "source": [
    "after_mel_array_array = np.transpose(after_mel_array_array, (0,3,1,2))\n",
    "after_mel_array_array.shape\n",
    "# batch_size * num_of_channels * Height * Width"
   ],
   "metadata": {
    "collapsed": false
   }
  },
  {
   "cell_type": "code",
   "execution_count": 13,
   "outputs": [],
   "source": [
    "loader = DataLoader(after_mel_array_array, batch_size=10, shuffle=True, num_workers=6)"
   ],
   "metadata": {
    "collapsed": false
   }
  },
  {
   "cell_type": "code",
   "execution_count": 14,
   "outputs": [
    {
     "name": "stdout",
     "output_type": "stream",
     "text": [
      "torch.Size([10, 6, 127, 2])\n",
      "torch.Size([10, 6, 127, 2])\n",
      "torch.Size([10, 6, 127, 2])\n"
     ]
    }
   ],
   "source": [
    "n1 = nn.Conv2d(3, 6, 2, 1)(torch.from_numpy(after_mel_array_array[:10,:,:,:]))\n",
    "print(n1.shape)\n",
    "n2 = nn.BatchNorm2d(6)(n1)\n",
    "print(n2.shape)\n",
    "n3 = nn.LeakyReLU(0.2, inplace=True)(n2)\n",
    "print(n3.shape)"
   ],
   "metadata": {
    "collapsed": false
   }
  },
  {
   "cell_type": "code",
   "execution_count": 15,
   "outputs": [
    {
     "name": "stdout",
     "output_type": "stream",
     "text": [
      "torch.Size([10, 12, 126, 1])\n",
      "torch.Size([10, 12, 126, 1])\n",
      "torch.Size([10, 12, 126, 1])\n"
     ]
    }
   ],
   "source": [
    "n4 = nn.Conv2d(6, 12, 2, 1)(n3)\n",
    "print(n4.shape)\n",
    "n5 = nn.BatchNorm2d(12)(n4)\n",
    "print(n5.shape)\n",
    "n6 = nn.LeakyReLU(0.2, inplace=True)(n5)\n",
    "print(n6.shape)"
   ],
   "metadata": {
    "collapsed": false
   }
  },
  {
   "cell_type": "code",
   "execution_count": 16,
   "outputs": [
    {
     "name": "stdout",
     "output_type": "stream",
     "text": [
      "torch.Size([10, 6, 127, 2])\n",
      "torch.Size([10, 6, 127, 2])\n",
      "torch.Size([10, 6, 127, 2])\n"
     ]
    }
   ],
   "source": [
    "# Decoder\n",
    "n7 = nn.ConvTranspose2d(12, 6, 2, 1)(n6)\n",
    "print(n7.shape)\n",
    "n8 = nn.BatchNorm2d(6)(n7)\n",
    "print(n8.shape)\n",
    "n9 = nn.LeakyReLU(0.2, inplace=True)(n8)\n",
    "print(n9.shape)"
   ],
   "metadata": {
    "collapsed": false
   }
  },
  {
   "cell_type": "code",
   "execution_count": 17,
   "outputs": [
    {
     "name": "stdout",
     "output_type": "stream",
     "text": [
      "torch.Size([10, 3, 128, 3])\n",
      "torch.Size([10, 3, 128, 3])\n",
      "torch.Size([10, 3, 128, 3])\n"
     ]
    }
   ],
   "source": [
    "n10 = nn.ConvTranspose2d(6, 3, 2, 1)(n9)\n",
    "print(n10.shape)\n",
    "n11 = nn.BatchNorm2d(3)(n10)\n",
    "print(n11.shape)\n",
    "n12 = nn.LeakyReLU(0.2, inplace=True)(n11)\n",
    "print(n12.shape)"
   ],
   "metadata": {
    "collapsed": false
   }
  },
  {
   "cell_type": "markdown",
   "source": [
    "## Conv2d AutoEncoder"
   ],
   "metadata": {
    "collapsed": false
   }
  },
  {
   "cell_type": "markdown",
   "source": [
    "I need find a conv2d autoencoder model to train the data"
   ],
   "metadata": {
    "collapsed": false
   }
  },
  {
   "cell_type": "code",
   "execution_count": 18,
   "outputs": [],
   "source": [
    "class AutoEncoderConv2d(nn.Module):\n",
    "    def __init__(self, chnum_in):\n",
    "        # one parameter: number of channels\n",
    "        # this project needs three channels\n",
    "        super(AutoEncoderConv2d, self).__init__()\n",
    "        self.chnum_in = chnum_in\n",
    "        # 128 96 256\n",
    "        feature_num = 12\n",
    "        feature_num_2 = 6\n",
    "        feature_num_x2 = 256\n",
    "        self.encoder = nn.Sequential(\n",
    "            nn.Conv2d(self.chnum_in,\n",
    "                      feature_num_2,\n",
    "                      2,\n",
    "                      stride=1 #,padding=(1, 1)\n",
    "                      ),\n",
    "            nn.BatchNorm2d(feature_num_2),\n",
    "            nn.LeakyReLU(0.2, inplace=True),\n",
    "\n",
    "            nn.Conv2d(feature_num_2,\n",
    "                      feature_num, 2,\n",
    "                      stride=1#, padding=(1, 1)\n",
    "                      ),\n",
    "            nn.BatchNorm2d(feature_num),\n",
    "            nn.LeakyReLU(0.2, inplace=True),\n",
    "            # nn.Conv2d(feature_num, feature_num_x2,\n",
    "            #           2, stride=1, padding=(1, 1)),\n",
    "            # nn.BatchNorm2d(feature_num_x2),\n",
    "            # nn.LeakyReLU(0.2, inplace=True),\n",
    "            #\n",
    "            # nn.Conv2d(feature_num_x2, feature_num_x2,\n",
    "            #           2, stride=1, padding=(1, 1)),\n",
    "            # nn.BatchNorm2d(feature_num_x2),\n",
    "            # nn.LeakyReLU(0.2, inplace=True)\n",
    "        )\n",
    "\n",
    "        self.decoder = nn.Sequential(\n",
    "            # nn.ConvTranspose2d(feature_num_x2, feature_num_x2,\n",
    "            #                    2, stride=1\n",
    "            #                    #, padding=(1, 1),\n",
    "            #                    #output_padding=(1, 1)\n",
    "            #                    ),\n",
    "            # nn.BatchNorm2d(feature_num_x2),\n",
    "            # nn.LeakyReLU(0.2, inplace=True),\n",
    "            #\n",
    "            # nn.ConvTranspose2d(feature_num_x2, feature_num,\n",
    "            #                    2, stride=1\n",
    "            #                    #, padding=(1, 1),\n",
    "            #                    #output_padding=(1, 1)\n",
    "            #                    ),\n",
    "            # nn.BatchNorm2d(feature_num),\n",
    "            # nn.LeakyReLU(0.2, inplace=True),\n",
    "            nn.ConvTranspose2d(feature_num, feature_num_2,\n",
    "                               2, stride=1\n",
    "                               # , padding=(1, 1),\n",
    "                               # output_padding=(1, 1)\n",
    "                               ),\n",
    "            nn.BatchNorm2d(feature_num_2),\n",
    "            nn.LeakyReLU(0.2, inplace=True),\n",
    "            nn.ConvTranspose2d(feature_num_2, self.chnum_in,\n",
    "                               2, stride=1\n",
    "                               # , padding=(1, 1),\n",
    "                               # output_padding=(0, 1)\n",
    "                               )\n",
    "        )\n",
    "\n",
    "    def forward(self, x):\n",
    "        f = self.encoder(x)\n",
    "        out = self.decoder(f)\n",
    "        return out"
   ],
   "metadata": {
    "collapsed": false
   }
  },
  {
   "cell_type": "code",
   "execution_count": 19,
   "outputs": [],
   "source": [
    "from model import conv2d\n",
    "device = \"cuda:0\"\n",
    "from model import conv2dAE, conv2d_ae\n",
    "#model_conv2D = conv2dAE.ConvAutoencoder().to(device)\n",
    "model_conv2D = AutoEncoderConv2d(3).to(device)\n",
    "#model_conv2D = conv2d_ae.Conv2d_AE(10).to(device)\n",
    "tr_recon_loss_func = nn.MSELoss().to(device)\n",
    "#tr_entropy_loss_func = entropy_loss.EntropyLossEncap().to(device)\n",
    "tr_optimizer = torch.optim.Adam(model_conv2D.parameters(), lr=1e-4)"
   ],
   "metadata": {
    "collapsed": false
   }
  },
  {
   "cell_type": "code",
   "execution_count": 20,
   "outputs": [
    {
     "name": "stdout",
     "output_type": "stream",
     "text": [
      "cuda:0\n"
     ]
    },
    {
     "name": "stderr",
     "output_type": "stream",
     "text": [
      "  0%|          | 1/500 [00:01<16:32,  1.99s/it]"
     ]
    },
    {
     "name": "stdout",
     "output_type": "stream",
     "text": [
      "1775.1546011034507\n"
     ]
    },
    {
     "name": "stderr",
     "output_type": "stream",
     "text": [
      " 10%|█         | 51/500 [01:18<11:06,  1.49s/it]"
     ]
    },
    {
     "name": "stdout",
     "output_type": "stream",
     "text": [
      "8.993503380244693\n"
     ]
    },
    {
     "name": "stderr",
     "output_type": "stream",
     "text": [
      " 20%|██        | 101/500 [02:32<09:30,  1.43s/it]"
     ]
    },
    {
     "name": "stdout",
     "output_type": "stream",
     "text": [
      "5.61967765835595\n"
     ]
    },
    {
     "name": "stderr",
     "output_type": "stream",
     "text": [
      " 30%|███       | 151/500 [03:44<08:26,  1.45s/it]"
     ]
    },
    {
     "name": "stdout",
     "output_type": "stream",
     "text": [
      "3.110080672473442\n"
     ]
    },
    {
     "name": "stderr",
     "output_type": "stream",
     "text": [
      " 40%|████      | 201/500 [04:57<07:21,  1.48s/it]"
     ]
    },
    {
     "name": "stdout",
     "output_type": "stream",
     "text": [
      "2.066870725472063\n"
     ]
    },
    {
     "name": "stderr",
     "output_type": "stream",
     "text": [
      " 50%|█████     | 251/500 [06:10<06:02,  1.46s/it]"
     ]
    },
    {
     "name": "stdout",
     "output_type": "stream",
     "text": [
      "1.4703758470631492\n"
     ]
    },
    {
     "name": "stderr",
     "output_type": "stream",
     "text": [
      " 60%|██████    | 301/500 [07:22<04:45,  1.43s/it]"
     ]
    },
    {
     "name": "stdout",
     "output_type": "stream",
     "text": [
      "1.7212503784379516\n"
     ]
    },
    {
     "name": "stderr",
     "output_type": "stream",
     "text": [
      " 70%|███████   | 351/500 [08:34<03:34,  1.44s/it]"
     ]
    },
    {
     "name": "stdout",
     "output_type": "stream",
     "text": [
      "1.2338453964753584\n"
     ]
    },
    {
     "name": "stderr",
     "output_type": "stream",
     "text": [
      " 80%|████████  | 401/500 [09:45<02:21,  1.43s/it]"
     ]
    },
    {
     "name": "stdout",
     "output_type": "stream",
     "text": [
      "1.2308973896992443\n"
     ]
    },
    {
     "name": "stderr",
     "output_type": "stream",
     "text": [
      " 90%|█████████ | 451/500 [10:56<01:09,  1.41s/it]"
     ]
    },
    {
     "name": "stdout",
     "output_type": "stream",
     "text": [
      "1.2808951495293768\n"
     ]
    },
    {
     "name": "stderr",
     "output_type": "stream",
     "text": [
      "100%|██████████| 500/500 [12:07<00:00,  1.45s/it]\n"
     ]
    },
    {
     "data": {
      "text/plain": "[<matplotlib.lines.Line2D at 0x7f0b8019e220>]"
     },
     "execution_count": 20,
     "metadata": {},
     "output_type": "execute_result"
    },
    {
     "data": {
      "text/plain": "<Figure size 640x480 with 1 Axes>",
      "image/png": "[encoded data removed]"
     },
     "metadata": {},
     "output_type": "display_data"
    }
   ],
   "source": [
    "epochs = 500\n",
    "loss_values = []\n",
    "print(device)\n",
    "for epoch in tqdm(range(epochs)):\n",
    "    loss = 0\n",
    "    for batch in loader:\n",
    "        #print(f'batch shape: {batch.shape}')\n",
    "        batch = batch.to(device)\n",
    "        tr_optimizer.zero_grad()\n",
    "        outputs = model_conv2D(batch)\n",
    "        #print(f'outputs.shape: {outputs.shape}')\n",
    "        train_loss = tr_recon_loss_func(outputs, batch)\n",
    "        train_loss.backward()\n",
    "        tr_optimizer.step()\n",
    "        loss += train_loss.item()\n",
    "    loss /=len(loader)\n",
    "    loss_values.append(loss)\n",
    "    #print(f'epoch: {epoch:03d}, loss: {loss:.4f}')\n",
    "    if epoch%50==0:\n",
    "        print(loss)\n",
    "\n",
    "plt.plot(loss_values)"
   ],
   "metadata": {
    "collapsed": false
   }
  },
  {
   "cell_type": "code",
   "execution_count": 21,
   "outputs": [],
   "source": [
    "# loss_values1 = [l*0.1 for l in loss_values]\n",
    "# plt.plot(loss_values1[40:])"
   ],
   "metadata": {
    "collapsed": false
   }
  },
  {
   "cell_type": "markdown",
   "source": [],
   "metadata": {
    "collapsed": false
   }
  },
  {
   "cell_type": "code",
   "source": [
    "len(output_list)\n",
    "print(output_list[0].shape)\n",
    "print(output_list[-1].shape)"
   ],
   "metadata": {
    "id": "Ru5-3xfgls1O"
   },
   "execution_count": 22,
   "outputs": [
    {
     "name": "stdout",
     "output_type": "stream",
     "text": [
      "(128, 3, 3)\n",
      "(128, 3, 3)\n"
     ]
    }
   ]
  },
  {
   "cell_type": "code",
   "execution_count": 23,
   "outputs": [],
   "source": [
    "# Only the last two months left\n",
    "# I have to try my best to win the fighting."
   ],
   "metadata": {
    "collapsed": false
   }
  }
 ]
}
