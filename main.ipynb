{
 "cells": [
  {
   "cell_type": "code",
   "execution_count": 22,
   "metadata": {
    "pycharm": {
     "name": "#%%\n"
    }
   },
   "outputs": [],
   "source": [
    "# import packages\n",
    "# !pip install pandas\n",
    "# !pip install xlrd==1.2.0\n",
    "# !pip install openpyxl\n",
    "# !pip install matplotlib\n",
    "# !pip install keras\n",
    "# !pip install tensorflow\n",
    "# !pip install tqdm\n",
    "# !pip install numba==0.53"
   ]
  },
  {
   "cell_type": "code",
   "execution_count": 1,
   "outputs": [
    {
     "ename": "ModuleNotFoundError",
     "evalue": "No module named 'numba'",
     "output_type": "error",
     "traceback": [
      "\u001B[0;31m---------------------------------------------------------------------------\u001B[0m",
      "\u001B[0;31mModuleNotFoundError\u001B[0m                       Traceback (most recent call last)",
      "Input \u001B[0;32mIn [1]\u001B[0m, in \u001B[0;36m<cell line: 5>\u001B[0;34m()\u001B[0m\n\u001B[1;32m      3\u001B[0m \u001B[38;5;28;01mimport\u001B[39;00m \u001B[38;5;21;01mnumpy\u001B[39;00m \u001B[38;5;28;01mas\u001B[39;00m \u001B[38;5;21;01mnp\u001B[39;00m\n\u001B[1;32m      4\u001B[0m \u001B[38;5;28;01mfrom\u001B[39;00m \u001B[38;5;21;01mtqdm\u001B[39;00m \u001B[38;5;28;01mimport\u001B[39;00m tqdm\n\u001B[0;32m----> 5\u001B[0m \u001B[38;5;28;01mimport\u001B[39;00m \u001B[38;5;21;01mlibrosa\u001B[39;00m\n\u001B[1;32m      6\u001B[0m \u001B[38;5;28;01mimport\u001B[39;00m \u001B[38;5;21;01mlibrosa\u001B[39;00m\u001B[38;5;21;01m.\u001B[39;00m\u001B[38;5;21;01mdisplay\u001B[39;00m\n",
      "File \u001B[0;32m~/anaconda3/envs/industry_DL2/lib/python3.9/site-packages/librosa/__init__.py:12\u001B[0m, in \u001B[0;36m<module>\u001B[0;34m\u001B[0m\n\u001B[1;32m     10\u001B[0m \u001B[38;5;66;03m# And all the librosa sub-modules\u001B[39;00m\n\u001B[1;32m     11\u001B[0m \u001B[38;5;28;01mfrom\u001B[39;00m \u001B[38;5;21;01m.\u001B[39;00m \u001B[38;5;28;01mimport\u001B[39;00m cache\n\u001B[0;32m---> 12\u001B[0m \u001B[38;5;28;01mfrom\u001B[39;00m \u001B[38;5;21;01m.\u001B[39;00m \u001B[38;5;28;01mimport\u001B[39;00m core\n\u001B[1;32m     13\u001B[0m \u001B[38;5;28;01mfrom\u001B[39;00m \u001B[38;5;21;01m.\u001B[39;00m \u001B[38;5;28;01mimport\u001B[39;00m beat\n\u001B[1;32m     14\u001B[0m \u001B[38;5;28;01mfrom\u001B[39;00m \u001B[38;5;21;01m.\u001B[39;00m \u001B[38;5;28;01mimport\u001B[39;00m decompose\n",
      "File \u001B[0;32m~/anaconda3/envs/industry_DL2/lib/python3.9/site-packages/librosa/core/__init__.py:102\u001B[0m, in \u001B[0;36m<module>\u001B[0;34m\u001B[0m\n\u001B[1;32m      1\u001B[0m \u001B[38;5;66;03m#!/usr/bin/env python\u001B[39;00m\n\u001B[1;32m      2\u001B[0m \u001B[38;5;66;03m# -*- coding: utf-8 -*-\u001B[39;00m\n\u001B[1;32m      3\u001B[0m \u001B[38;5;124;03m\"\"\"\u001B[39;00m\n\u001B[1;32m      4\u001B[0m \u001B[38;5;124;03mCore IO and DSP\u001B[39;00m\n\u001B[1;32m      5\u001B[0m \u001B[38;5;124;03m===============\u001B[39;00m\n\u001B[0;32m   (...)\u001B[0m\n\u001B[1;32m     99\u001B[0m \u001B[38;5;124;03m    fill_off_diagonal\u001B[39;00m\n\u001B[1;32m    100\u001B[0m \u001B[38;5;124;03m\"\"\"\u001B[39;00m\n\u001B[0;32m--> 102\u001B[0m \u001B[38;5;28;01mfrom\u001B[39;00m \u001B[38;5;21;01m.\u001B[39;00m\u001B[38;5;21;01mtime_frequency\u001B[39;00m \u001B[38;5;28;01mimport\u001B[39;00m \u001B[38;5;241m*\u001B[39m  \u001B[38;5;66;03m# pylint: disable=wildcard-import\u001B[39;00m\n\u001B[1;32m    103\u001B[0m \u001B[38;5;28;01mfrom\u001B[39;00m \u001B[38;5;21;01m.\u001B[39;00m\u001B[38;5;21;01maudio\u001B[39;00m \u001B[38;5;28;01mimport\u001B[39;00m \u001B[38;5;241m*\u001B[39m  \u001B[38;5;66;03m# pylint: disable=wildcard-import\u001B[39;00m\n\u001B[1;32m    104\u001B[0m \u001B[38;5;28;01mfrom\u001B[39;00m \u001B[38;5;21;01m.\u001B[39;00m\u001B[38;5;21;01mspectrum\u001B[39;00m \u001B[38;5;28;01mimport\u001B[39;00m \u001B[38;5;241m*\u001B[39m  \u001B[38;5;66;03m# pylint: disable=wildcard-import\u001B[39;00m\n",
      "File \u001B[0;32m~/anaconda3/envs/industry_DL2/lib/python3.9/site-packages/librosa/core/time_frequency.py:10\u001B[0m, in \u001B[0;36m<module>\u001B[0;34m\u001B[0m\n\u001B[1;32m      7\u001B[0m \u001B[38;5;28;01mimport\u001B[39;00m \u001B[38;5;21;01mnumpy\u001B[39;00m \u001B[38;5;28;01mas\u001B[39;00m \u001B[38;5;21;01mnp\u001B[39;00m\n\u001B[1;32m      8\u001B[0m \u001B[38;5;28;01mimport\u001B[39;00m \u001B[38;5;21;01msix\u001B[39;00m\n\u001B[0;32m---> 10\u001B[0m \u001B[38;5;28;01mfrom\u001B[39;00m \u001B[38;5;21;01m.\u001B[39;00m\u001B[38;5;21;01m.\u001B[39;00m\u001B[38;5;21;01mutil\u001B[39;00m\u001B[38;5;21;01m.\u001B[39;00m\u001B[38;5;21;01mexceptions\u001B[39;00m \u001B[38;5;28;01mimport\u001B[39;00m ParameterError\n\u001B[1;32m     12\u001B[0m __all__ \u001B[38;5;241m=\u001B[39m [\u001B[38;5;124m'\u001B[39m\u001B[38;5;124mframes_to_samples\u001B[39m\u001B[38;5;124m'\u001B[39m, \u001B[38;5;124m'\u001B[39m\u001B[38;5;124mframes_to_time\u001B[39m\u001B[38;5;124m'\u001B[39m,\n\u001B[1;32m     13\u001B[0m            \u001B[38;5;124m'\u001B[39m\u001B[38;5;124msamples_to_frames\u001B[39m\u001B[38;5;124m'\u001B[39m, \u001B[38;5;124m'\u001B[39m\u001B[38;5;124msamples_to_time\u001B[39m\u001B[38;5;124m'\u001B[39m,\n\u001B[1;32m     14\u001B[0m            \u001B[38;5;124m'\u001B[39m\u001B[38;5;124mtime_to_samples\u001B[39m\u001B[38;5;124m'\u001B[39m, \u001B[38;5;124m'\u001B[39m\u001B[38;5;124mtime_to_frames\u001B[39m\u001B[38;5;124m'\u001B[39m,\n\u001B[0;32m   (...)\u001B[0m\n\u001B[1;32m     24\u001B[0m            \u001B[38;5;124m'\u001B[39m\u001B[38;5;124mtempo_frequencies\u001B[39m\u001B[38;5;124m'\u001B[39m,\n\u001B[1;32m     25\u001B[0m            \u001B[38;5;124m'\u001B[39m\u001B[38;5;124mA_weighting\u001B[39m\u001B[38;5;124m'\u001B[39m]\n\u001B[1;32m     28\u001B[0m \u001B[38;5;28;01mdef\u001B[39;00m \u001B[38;5;21mframes_to_samples\u001B[39m(frames, hop_length\u001B[38;5;241m=\u001B[39m\u001B[38;5;241m512\u001B[39m, n_fft\u001B[38;5;241m=\u001B[39m\u001B[38;5;28;01mNone\u001B[39;00m):\n",
      "File \u001B[0;32m~/anaconda3/envs/industry_DL2/lib/python3.9/site-packages/librosa/util/__init__.py:70\u001B[0m, in \u001B[0;36m<module>\u001B[0;34m\u001B[0m\n\u001B[1;32m     68\u001B[0m \u001B[38;5;28;01mfrom\u001B[39;00m \u001B[38;5;21;01m.\u001B[39;00m\u001B[38;5;21;01mfiles\u001B[39;00m \u001B[38;5;28;01mimport\u001B[39;00m \u001B[38;5;241m*\u001B[39m  \u001B[38;5;66;03m# pylint: disable=wildcard-import\u001B[39;00m\n\u001B[1;32m     69\u001B[0m \u001B[38;5;28;01mfrom\u001B[39;00m \u001B[38;5;21;01m.\u001B[39;00m\u001B[38;5;21;01mdeprecation\u001B[39;00m \u001B[38;5;28;01mimport\u001B[39;00m \u001B[38;5;241m*\u001B[39m  \u001B[38;5;66;03m# pylint: disable=wildcard-import\u001B[39;00m\n\u001B[0;32m---> 70\u001B[0m \u001B[38;5;28;01mfrom\u001B[39;00m \u001B[38;5;21;01m.\u001B[39;00m \u001B[38;5;28;01mimport\u001B[39;00m decorators\n\u001B[1;32m     71\u001B[0m \u001B[38;5;28;01mfrom\u001B[39;00m \u001B[38;5;21;01m.\u001B[39;00m \u001B[38;5;28;01mimport\u001B[39;00m exceptions\n\u001B[1;32m     73\u001B[0m __all__ \u001B[38;5;241m=\u001B[39m [_ \u001B[38;5;28;01mfor\u001B[39;00m _ \u001B[38;5;129;01min\u001B[39;00m \u001B[38;5;28mdir\u001B[39m() \u001B[38;5;28;01mif\u001B[39;00m \u001B[38;5;129;01mnot\u001B[39;00m _\u001B[38;5;241m.\u001B[39mstartswith(\u001B[38;5;124m'\u001B[39m\u001B[38;5;124m_\u001B[39m\u001B[38;5;124m'\u001B[39m)]\n",
      "File \u001B[0;32m~/anaconda3/envs/industry_DL2/lib/python3.9/site-packages/librosa/util/decorators.py:9\u001B[0m, in \u001B[0;36m<module>\u001B[0;34m\u001B[0m\n\u001B[1;32m      7\u001B[0m \u001B[38;5;28;01mfrom\u001B[39;00m \u001B[38;5;21;01mdecorator\u001B[39;00m \u001B[38;5;28;01mimport\u001B[39;00m decorator\n\u001B[1;32m      8\u001B[0m \u001B[38;5;28;01mimport\u001B[39;00m \u001B[38;5;21;01msix\u001B[39;00m\n\u001B[0;32m----> 9\u001B[0m \u001B[38;5;28;01mfrom\u001B[39;00m \u001B[38;5;21;01mnumba\u001B[39;00m\u001B[38;5;21;01m.\u001B[39;00m\u001B[38;5;21;01mdecorators\u001B[39;00m \u001B[38;5;28;01mimport\u001B[39;00m jit \u001B[38;5;28;01mas\u001B[39;00m optional_jit\n\u001B[1;32m     11\u001B[0m __all__ \u001B[38;5;241m=\u001B[39m [\u001B[38;5;124m'\u001B[39m\u001B[38;5;124mmoved\u001B[39m\u001B[38;5;124m'\u001B[39m, \u001B[38;5;124m'\u001B[39m\u001B[38;5;124mdeprecated\u001B[39m\u001B[38;5;124m'\u001B[39m, \u001B[38;5;124m'\u001B[39m\u001B[38;5;124moptional_jit\u001B[39m\u001B[38;5;124m'\u001B[39m]\n\u001B[1;32m     14\u001B[0m \u001B[38;5;28;01mdef\u001B[39;00m \u001B[38;5;21mmoved\u001B[39m(moved_from, version, version_removed):\n",
      "\u001B[0;31mModuleNotFoundError\u001B[0m: No module named 'numba'"
     ]
    }
   ],
   "source": [
    "import pandas as pd\n",
    "import matplotlib.pyplot as plt\n",
    "import numpy as np\n",
    "from tqdm import tqdm\n",
    "import librosa\n",
    "import librosa.display"
   ],
   "metadata": {
    "collapsed": false,
    "pycharm": {
     "name": "#%%\n"
    }
   }
  },
  {
   "cell_type": "code",
   "execution_count": 28,
   "outputs": [
    {
     "name": "stdout",
     "output_type": "stream",
     "text": [
      "Unexpected exception formatting exception. Falling back to standard exception\n"
     ]
    },
    {
     "name": "stderr",
     "output_type": "stream",
     "text": [
      "Traceback (most recent call last):\n",
      "  File \"/home/zzh/anaconda3/envs/industry_DL2/lib/python3.9/site-packages/IPython/core/interactiveshell.py\", line 3398, in run_code\n",
      "    exec(code_obj, self.user_global_ns, self.user_ns)\n",
      "  File \"/tmp/ipykernel_23959/3471087133.py\", line 1, in <cell line: 1>\n",
      "    import librosa\n",
      "  File \"/home/zzh/anaconda3/envs/industry_DL2/lib/python3.9/site-packages/librosa/__init__.py\", line 12, in <module>\n",
      "    from . import core\n",
      "  File \"/home/zzh/anaconda3/envs/industry_DL2/lib/python3.9/site-packages/librosa/core/__init__.py\", line 103, in <module>\n",
      "    from .audio import *  # pylint: disable=wildcard-import\n",
      "  File \"/home/zzh/anaconda3/envs/industry_DL2/lib/python3.9/site-packages/librosa/core/audio.py\", line 12, in <module>\n",
      "    import resampy\n",
      "  File \"/home/zzh/anaconda3/envs/industry_DL2/lib/python3.9/site-packages/resampy/__init__.py\", line 7, in <module>\n",
      "    from .core import *\n",
      "  File \"/home/zzh/anaconda3/envs/industry_DL2/lib/python3.9/site-packages/resampy/core.py\", line 9, in <module>\n",
      "    from .interpn import resample_f_s, resample_f_p\n",
      "  File \"/home/zzh/anaconda3/envs/industry_DL2/lib/python3.9/site-packages/resampy/interpn.py\", line 113, in <module>\n",
      "    def resample_f_p(x, t_out, interp_win, interp_delta, num_table, scale, y):\n",
      "  File \"/home/zzh/anaconda3/envs/industry_DL2/lib/python3.9/site-packages/numba/np/ufunc/decorators.py\", line 194, in wrap\n",
      "  File \"/home/zzh/anaconda3/envs/industry_DL2/lib/python3.9/site-packages/numba/np/ufunc/gufunc.py\", line 63, in add\n",
      "  File \"/home/zzh/anaconda3/envs/industry_DL2/lib/python3.9/site-packages/numba/np/ufunc/ufuncbuilder.py\", line 241, in add\n",
      "  File \"/home/zzh/anaconda3/envs/industry_DL2/lib/python3.9/site-packages/numba/np/ufunc/ufuncbuilder.py\", line 173, in _compile_element_wise_function\n",
      "  File \"/home/zzh/anaconda3/envs/industry_DL2/lib/python3.9/site-packages/numba/np/ufunc/ufuncbuilder.py\", line 121, in compile\n",
      "  File \"/home/zzh/anaconda3/envs/industry_DL2/lib/python3.9/site-packages/numba/np/ufunc/ufuncbuilder.py\", line 154, in _compile_core\n",
      "  File \"/home/zzh/anaconda3/envs/industry_DL2/lib/python3.9/site-packages/numba/core/compiler.py\", line 716, in compile_extra\n",
      "  File \"/home/zzh/anaconda3/envs/industry_DL2/lib/python3.9/site-packages/numba/core/compiler.py\", line 452, in compile_extra\n",
      "  File \"/home/zzh/anaconda3/envs/industry_DL2/lib/python3.9/site-packages/numba/core/compiler.py\", line 520, in _compile_bytecode\n",
      "  File \"/home/zzh/anaconda3/envs/industry_DL2/lib/python3.9/site-packages/numba/core/compiler.py\", line 499, in _compile_core\n",
      "  File \"/home/zzh/anaconda3/envs/industry_DL2/lib/python3.9/site-packages/numba/core/compiler.py\", line 486, in _compile_core\n",
      "  File \"/home/zzh/anaconda3/envs/industry_DL2/lib/python3.9/site-packages/numba/core/compiler_machinery.py\", line 368, in run\n",
      "  File \"/home/zzh/anaconda3/envs/industry_DL2/lib/python3.9/site-packages/numba/core/compiler_machinery.py\", line 356, in run\n",
      "  File \"/home/zzh/anaconda3/envs/industry_DL2/lib/python3.9/site-packages/numba/core/compiler_lock.py\", line 35, in _acquire_compile_lock\n",
      "  File \"/home/zzh/anaconda3/envs/industry_DL2/lib/python3.9/site-packages/numba/core/compiler_machinery.py\", line 311, in _runPass\n",
      "  File \"/home/zzh/anaconda3/envs/industry_DL2/lib/python3.9/site-packages/numba/core/compiler_machinery.py\", line 273, in check\n",
      "  File \"/home/zzh/anaconda3/envs/industry_DL2/lib/python3.9/site-packages/numba/core/typed_passes.py\", line 105, in run_pass\n",
      "  File \"/home/zzh/anaconda3/envs/industry_DL2/lib/python3.9/site-packages/numba/core/typed_passes.py\", line 83, in type_inference_stage\n",
      "  File \"/home/zzh/anaconda3/envs/industry_DL2/lib/python3.9/site-packages/numba/core/typeinfer.py\", line 1086, in propagate\n",
      "numba.core.errors.TypingError: Failed in nopython mode pipeline (step: nopython frontend)\n",
      "Internal error at <numba.core.typeinfer.CallConstraint object at 0x7f6508d9cc10>.\n",
      "Failed in nopython mode pipeline (step: native lowering)\n",
      "Failed in nopython mode pipeline (step: native lowering)\n",
      "'IRBuilder' object has no attribute 'icmp'\n",
      "\n",
      "File \"<string>\", line 2:\n",
      "<source missing, REPL/exec in use?>\n",
      "\n",
      "During: lowering \"$28get_iter.13.403 = getiter(value=$26call_function.12.402)\" at <string> (2)\n",
      "During: lowering \"id=5[LoopNest(index_variable = parfor_index.373, range = (0, n_out, 1))]{168: <ir.Block at /home/zzh/anaconda3/envs/industry_DL2/lib/python3.9/site-packages/resampy/interpn.py (52)>, 170: <ir.Block at /home/zzh/anaconda3/envs/industry_DL2/lib/python3.9/site-packages/resampy/interpn.py (52)>, 238: <ir.Block at /home/zzh/anaconda3/envs/industry_DL2/lib/python3.9/site-packages/resampy/interpn.py (61)>, 304: <ir.Block at /home/zzh/anaconda3/envs/industry_DL2/lib/python3.9/site-packages/resampy/interpn.py (72)>, 306: <ir.Block at /home/zzh/anaconda3/envs/industry_DL2/lib/python3.9/site-packages/resampy/interpn.py (72)>, 84: <ir.Block at /home/zzh/anaconda3/envs/industry_DL2/lib/python3.9/site-packages/resampy/interpn.py (34)>, 380: <ir.Block at /home/zzh/anaconda3/envs/industry_DL2/lib/python3.9/site-packages/resampy/interpn.py (77)>}Var(parfor_index.373, interpn.py:34)\" at /home/zzh/anaconda3/envs/industry_DL2/lib/python3.9/site-packages/resampy/interpn.py (34)\n",
      "During: resolving callee type: type(CPUDispatcher(<function _resample_loop at 0x7f65245f7d30>))\n",
      "During: typing of call at /home/zzh/anaconda3/envs/industry_DL2/lib/python3.9/site-packages/resampy/interpn.py (114)\n",
      "\n",
      "Enable logging at debug level for details.\n",
      "\n",
      "File \"../../anaconda3/envs/industry_DL2/lib/python3.9/site-packages/resampy/interpn.py\", line 114:\n",
      "def resample_f_p(x, t_out, interp_win, interp_delta, num_table, scale, y):\n",
      "    _resample_loop_p(x, t_out, interp_win, interp_delta, num_table, scale, y)\n",
      "    ^\n",
      "\n",
      "\n",
      "During handling of the above exception, another exception occurred:\n",
      "\n",
      "Traceback (most recent call last):\n",
      "  File \"/home/zzh/anaconda3/envs/industry_DL2/lib/python3.9/site-packages/IPython/core/interactiveshell.py\", line 1993, in showtraceback\n",
      "    stb = self.InteractiveTB.structured_traceback(\n",
      "  File \"/home/zzh/anaconda3/envs/industry_DL2/lib/python3.9/site-packages/IPython/core/ultratb.py\", line 1118, in structured_traceback\n",
      "    return FormattedTB.structured_traceback(\n",
      "  File \"/home/zzh/anaconda3/envs/industry_DL2/lib/python3.9/site-packages/IPython/core/ultratb.py\", line 1012, in structured_traceback\n",
      "    return VerboseTB.structured_traceback(\n",
      "  File \"/home/zzh/anaconda3/envs/industry_DL2/lib/python3.9/site-packages/IPython/core/ultratb.py\", line 865, in structured_traceback\n",
      "    formatted_exception = self.format_exception_as_a_whole(etype, evalue, etb, number_of_lines_of_context,\n",
      "  File \"/home/zzh/anaconda3/envs/industry_DL2/lib/python3.9/site-packages/IPython/core/ultratb.py\", line 818, in format_exception_as_a_whole\n",
      "    frames.append(self.format_record(r))\n",
      "  File \"/home/zzh/anaconda3/envs/industry_DL2/lib/python3.9/site-packages/IPython/core/ultratb.py\", line 736, in format_record\n",
      "    result += ''.join(_format_traceback_lines(frame_info.lines, Colors, self.has_colors, lvals))\n",
      "  File \"/home/zzh/anaconda3/envs/industry_DL2/lib/python3.9/site-packages/stack_data/utils.py\", line 145, in cached_property_wrapper\n",
      "    value = obj.__dict__[self.func.__name__] = self.func(obj)\n",
      "  File \"/home/zzh/anaconda3/envs/industry_DL2/lib/python3.9/site-packages/stack_data/core.py\", line 698, in lines\n",
      "    pieces = self.included_pieces\n",
      "  File \"/home/zzh/anaconda3/envs/industry_DL2/lib/python3.9/site-packages/stack_data/utils.py\", line 145, in cached_property_wrapper\n",
      "    value = obj.__dict__[self.func.__name__] = self.func(obj)\n",
      "  File \"/home/zzh/anaconda3/envs/industry_DL2/lib/python3.9/site-packages/stack_data/core.py\", line 649, in included_pieces\n",
      "    pos = scope_pieces.index(self.executing_piece)\n",
      "  File \"/home/zzh/anaconda3/envs/industry_DL2/lib/python3.9/site-packages/stack_data/utils.py\", line 145, in cached_property_wrapper\n",
      "    value = obj.__dict__[self.func.__name__] = self.func(obj)\n",
      "  File \"/home/zzh/anaconda3/envs/industry_DL2/lib/python3.9/site-packages/stack_data/core.py\", line 628, in executing_piece\n",
      "    return only(\n",
      "  File \"/home/zzh/anaconda3/envs/industry_DL2/lib/python3.9/site-packages/executing/executing.py\", line 164, in only\n",
      "    raise NotOneValueFound('Expected one value, found 0')\n",
      "executing.executing.NotOneValueFound: Expected one value, found 0\n"
     ]
    }
   ],
   "source": [
    "import librosa"
   ],
   "metadata": {
    "collapsed": false,
    "pycharm": {
     "name": "#%%\n"
    }
   }
  },
  {
   "cell_type": "code",
   "execution_count": null,
   "outputs": [],
   "source": [
    "import logging\n",
    "import sys\n",
    "\n",
    "logger = logging.getLogger()\n",
    "logger.setLevel(logging.INFO)\n",
    "formatter = logging.Formatter('%(asctime)s | %(levelname)s | %(message)s', '%H:%M:%S')\n",
    "\n",
    "stdout_handler = logging.StreamHandler(sys.stdout)\n",
    "stdout_handler.setLevel(logging.DEBUG)\n",
    "stdout_handler.setFormatter(formatter)\n",
    "\n",
    "file_handler = logging.FileHandler('logs.log')\n",
    "file_handler.setLevel(logging.DEBUG)\n",
    "file_handler.setFormatter(formatter)\n",
    "\n",
    "logger.handlers = []\n",
    "logger.addHandler(file_handler)\n",
    "logger.addHandler(stdout_handler)\n",
    "\n",
    "logger.info(\"logger system works!\")"
   ],
   "metadata": {
    "collapsed": false,
    "pycharm": {
     "name": "#%%\n"
    }
   }
  },
  {
   "cell_type": "markdown",
   "source": [
    "## Data Preparation"
   ],
   "metadata": {
    "collapsed": false,
    "pycharm": {
     "name": "#%% md\n"
    }
   }
  },
  {
   "cell_type": "code",
   "execution_count": null,
   "outputs": [],
   "source": [
    "def load_excel(filename):\n",
    "    data = pd.read_excel(filename, index_col=None, usecols=[1, 2, 3])\n",
    "    data = data.dropna(how='any').iloc[::-1]\n",
    "    data = data.loc[~(data==0).all(axis=1)]\n",
    "    xlist = reject_outliers(data['1号球磨轴承振动_X'].tolist())\n",
    "    ylist = reject_outliers(data['1号球磨轴承振动_Y'].tolist())\n",
    "    zlist = reject_outliers(data['1号球磨轴承振动_Z'].tolist())\n",
    "    return xlist, ylist, zlist"
   ],
   "metadata": {
    "collapsed": false,
    "pycharm": {
     "name": "#%%\n"
    }
   }
  },
  {
   "cell_type": "code",
   "execution_count": null,
   "outputs": [],
   "source": [
    "def reject_outliers(data, m=2):\n",
    "    mean = np.mean(data)\n",
    "    std = np.std(data)\n",
    "    m = 4\n",
    "    logger.info(\"max: {}\".format(mean+m*std))\n",
    "    for i in range(len(data)) :\n",
    "        if np.abs(data[i]) > mean + m*std or data[i] < 0 :\n",
    "            logger.info(\"reject outlier data: {}\".format(data[i]))\n",
    "            data[i] = data[i-1]\n",
    "    return data"
   ],
   "metadata": {
    "collapsed": false,
    "pycharm": {
     "name": "#%%\n"
    }
   }
  },
  {
   "cell_type": "code",
   "execution_count": null,
   "outputs": [],
   "source": [
    "import pickle\n",
    "def save_pickle(filename, save_data):\n",
    "    logger.info(\"save pickle -> {}\".format(filename))\n",
    "    with open(filename, 'wb') as sf:\n",
    "        pickle.dump(save_data, sf)\n",
    "\n",
    "def load_pickle(filename):\n",
    "    logger.info(f\"load pickle <- {filename}\")\n",
    "    with open(filename, 'rb') as lf:\n",
    "        load_data = pickle.load(lf)\n",
    "    return load_data"
   ],
   "metadata": {
    "collapsed": false,
    "pycharm": {
     "name": "#%%\n"
    }
   }
  },
  {
   "cell_type": "code",
   "execution_count": null,
   "outputs": [],
   "source": [
    "import glob, os\n",
    "\n",
    "x_pickle = \"pickle/x.pickle\"\n",
    "y_pickle = \"pickle/y.pickle\"\n",
    "z_pickle = \"pickle/z.pickle\"\n",
    "\n",
    "# pickle\n",
    "if os.path.exists(x_pickle) and os.path.exists(y_pickle) and os.path.exists(z_pickle):\n",
    "    xlist_sum = load_pickle(x_pickle)\n",
    "    ylist_sum = load_pickle(y_pickle)\n",
    "    zlist_sum = load_pickle(z_pickle)\n",
    "else:\n",
    "    xlist_sum = ylist_sum = zlist_sum = []\n",
    "    for file in tqdm(glob.glob(\"data/excels/*.xlsx\")):\n",
    "        logger.info(\"Load data from file {}\".format(file))\n",
    "        xlist, ylist, zlist = load_excel(file)\n",
    "        xlist_sum.extend(xlist)\n",
    "        ylist_sum.extend(ylist)\n",
    "        zlist_sum.extend(zlist)\n",
    "    save_pickle(x_pickle, xlist_sum)\n",
    "    save_pickle(y_pickle, ylist_sum)\n",
    "    save_pickle(z_pickle, zlist_sum)"
   ],
   "metadata": {
    "collapsed": false,
    "pycharm": {
     "name": "#%%\n"
    }
   }
  },
  {
   "cell_type": "code",
   "execution_count": null,
   "outputs": [],
   "source": [
    "ch = ['for', 'the', 'lich', 'king']\n",
    "from tqdm import tqdm\n",
    "from time import sleep\n",
    "text = ''\n",
    "for c in tqdm(ch):\n",
    "    sleep(0.25)\n",
    "    text = text + c"
   ],
   "metadata": {
    "collapsed": false,
    "pycharm": {
     "name": "#%%\n"
    }
   }
  },
  {
   "cell_type": "code",
   "execution_count": null,
   "outputs": [],
   "source": [
    "def split_list(input_list, sublist_length):\n",
    "    return [input_list[x:x+sublist_length] for x in range(0, len(input_list), sublist_length)]"
   ],
   "metadata": {
    "collapsed": false,
    "pycharm": {
     "name": "#%%\n"
    }
   }
  },
  {
   "cell_type": "code",
   "execution_count": null,
   "outputs": [],
   "source": [
    "sublist_size = 10000\n",
    "xlists = split_list(xlist_sum, sublist_size)\n",
    "ylists = split_list(ylist_sum, sublist_size)\n",
    "zlists = split_list(zlist_sum, sublist_size)"
   ],
   "metadata": {
    "collapsed": false,
    "pycharm": {
     "name": "#%%\n"
    }
   }
  },
  {
   "cell_type": "markdown",
   "source": [],
   "metadata": {
    "collapsed": false,
    "pycharm": {
     "name": "#%% md\n"
    }
   }
  },
  {
   "cell_type": "code",
   "execution_count": null,
   "outputs": [],
   "source": [
    "def list_to_mel(a_list):\n",
    "    S = librosa"
   ],
   "metadata": {
    "collapsed": false,
    "pycharm": {
     "name": "#%%\n"
    }
   }
  },
  {
   "cell_type": "markdown",
   "source": [
    "## Data Visualization"
   ],
   "metadata": {
    "collapsed": false,
    "pycharm": {
     "name": "#%% md\n"
    }
   }
  },
  {
   "cell_type": "code",
   "execution_count": null,
   "outputs": [],
   "source": [
    "fig, axs = plt.subplots(3)\n",
    "fig.suptitle('the whole data of x, y, z')\n",
    "axs[0].plot(xlist_sum)\n",
    "axs[1].plot(ylist_sum)\n",
    "axs[2].plot(zlist_sum)"
   ],
   "metadata": {
    "collapsed": false,
    "pycharm": {
     "name": "#%%\n"
    }
   }
  },
  {
   "cell_type": "code",
   "execution_count": null,
   "outputs": [],
   "source": [
    "count = 0\n",
    "for i in ylist_sum:\n",
    "    if i == 0:\n",
    "        count += 1\n",
    "logger.info(f\"count of zeros: {count}\")"
   ],
   "metadata": {
    "collapsed": false,
    "pycharm": {
     "name": "#%%\n"
    }
   }
  },
  {
   "cell_type": "markdown",
   "source": [
    "## Model Building"
   ],
   "metadata": {
    "collapsed": false,
    "pycharm": {
     "name": "#%% md\n"
    }
   }
  },
  {
   "cell_type": "code",
   "execution_count": null,
   "outputs": [],
   "source": [
    "from sklearn import metrics\n",
    "from keras.models import Model\n",
    "from keras.layers import Input, Dense\n",
    "\n",
    "def keras_model(inputDim):\n",
    "    inputLayer = Input(shape=(inputDim,))\n",
    "    x = Dense(128, activation='relu')(inputLayer)\n",
    "    x = Dense(128, activation='relu')(x)\n",
    "    x = Dense(128, activation='relu')(x)\n",
    "    x = Dense(128, activation='relu')(x)\n",
    "    x = Dense(  8, activation='relu')(x)\n",
    "    x = Dense(128, activation='relu')(x)\n",
    "    x = Dense(128, activation='relu')(x)\n",
    "    x = Dense(128, activation='relu')(x)\n",
    "    x = Dense(128, activation='relu')(x)\n",
    "    x = Dense(inputDim, activation=None)(x) # or sigmoid\n",
    "    return Model(inputs=inputLayer, outputs=x)"
   ],
   "metadata": {
    "collapsed": false,
    "pycharm": {
     "name": "#%%\n"
    }
   }
  },
  {
   "cell_type": "code",
   "execution_count": null,
   "outputs": [],
   "source": [
    "import keras.models\n",
    "from keras.models import Model\n",
    "from keras.layers import Input, Dense, BatchNormalization, Activation\n",
    "def get_model(inputDim):\n",
    "    \"\"\"\n",
    "    define the keras model\n",
    "    the model based on the simple dense auto encoder\n",
    "    (128*128*128*128*8*128*128*128*128)\n",
    "    \"\"\"\n",
    "    inputLayer = Input(shape=(inputDim,))\n",
    "\n",
    "    h = Dense(512)(inputLayer)\n",
    "    h = BatchNormalization()(h)\n",
    "    h = Activation('relu')(h)\n",
    "\n",
    "    h = Dense(512)(h)\n",
    "    h = BatchNormalization()(h)\n",
    "    h = Activation('relu')(h)\n",
    "\n",
    "    h = Dense(512)(h)\n",
    "    h = BatchNormalization()(h)\n",
    "    h = Activation('relu')(h)\n",
    "\n",
    "    h = Dense(512)(h)\n",
    "    h = BatchNormalization()(h)\n",
    "    h = Activation('relu')(h)\n",
    "\n",
    "    h = Dense(32)(h)\n",
    "    h = BatchNormalization()(h)\n",
    "    h = Activation('relu')(h)\n",
    "\n",
    "    h = Dense(512)(h)\n",
    "    h = BatchNormalization()(h)\n",
    "    h = Activation('relu')(h)\n",
    "\n",
    "    h = Dense(512)(h)\n",
    "    h = BatchNormalization()(h)\n",
    "    h = Activation('relu')(h)\n",
    "\n",
    "    h = Dense(512)(h)\n",
    "    h = BatchNormalization()(h)\n",
    "    h = Activation('relu')(h)\n",
    "\n",
    "    h = Dense(512)(h)\n",
    "    h = BatchNormalization()(h)\n",
    "    h = Activation('relu')(h)\n",
    "\n",
    "    h = Dense(inputDim)(h)\n",
    "\n",
    "    return Model(inputs=inputLayer, outputs=h)"
   ],
   "metadata": {
    "collapsed": false,
    "pycharm": {
     "name": "#%%\n"
    }
   }
  },
  {
   "cell_type": "code",
   "execution_count": null,
   "outputs": [],
   "source": [
    "model = keras_model(len(xlist_sum))\n",
    "# model.summary()"
   ],
   "metadata": {
    "collapsed": false,
    "pycharm": {
     "name": "#%%\n"
    }
   }
  },
  {
   "cell_type": "code",
   "execution_count": null,
   "outputs": [],
   "source": [],
   "metadata": {
    "collapsed": false,
    "pycharm": {
     "name": "#%%\n"
    }
   }
  },
  {
   "cell_type": "code",
   "execution_count": null,
   "outputs": [],
   "source": [
    "class visualizer(object):\n",
    "    def __init__(self):\n",
    "        self.plt = plt\n",
    "        self.fig = self.plt.figure(figsize=(30, 10))\n",
    "        self.plt.subplots_adjust(wspace=0.3, hspace=0.3)\n",
    "\n",
    "    def loss_plot(self, loss, val_loss):\n",
    "        ax = self.fig.add_subplot(1, 1, 1)\n",
    "        ax.cla()\n",
    "        ax.plot(loss)\n",
    "        ax.plot(val_loss)\n",
    "        ax.set_title(\"Model loss\")\n",
    "        ax.set_xlabel(\"Epoch\")\n",
    "        ax.set_ylabel(\"Loss\")\n",
    "        ax.legend([\"Train\", \"Test\"], loc=\"upper right\")\n",
    "\n",
    "    def save_figure(self, filename):\n",
    "        self.plt.savefig(filename)"
   ],
   "metadata": {
    "collapsed": false,
    "pycharm": {
     "name": "#%%\n"
    }
   }
  },
  {
   "cell_type": "code",
   "execution_count": null,
   "outputs": [],
   "source": [
    "from tqdm.keras import TqdmCallback\n",
    "model_file = \"model/model.hdf5\"\n",
    "visualizer = visualizer()\n",
    "\n",
    "train_data = xlist_sum\n",
    "\n",
    "if os.path.exists(model_file):\n",
    "    model.load_weights(model_file)\n",
    "\n",
    "else:\n",
    "    model.compile(optimizer=\"adam\", loss= \"mean_squared_error\")\n",
    "    history = model.fit(train_data,\n",
    "                        train_data,\n",
    "                        epochs=100,\n",
    "                        batch_size=10,\n",
    "                        shuffle=True,\n",
    "                        #validation_split=0.1,\n",
    "                        verbose=0,\n",
    "                        callbacks=[TqdmCallback(verbose=2)])\n",
    "    visualizer.loss_plot(\n",
    "        history.history[\"loss\"], history.history[\"val_loss\"]\n",
    "    )\n",
    "    visualizer.save_figure(\"model/history.png\")\n",
    "    model.save_weights(model_file)"
   ],
   "metadata": {
    "collapsed": false,
    "pycharm": {
     "name": "#%%\n"
    }
   }
  },
  {
   "cell_type": "code",
   "execution_count": null,
   "outputs": [],
   "source": [],
   "metadata": {
    "collapsed": false,
    "pycharm": {
     "name": "#%%\n"
    }
   }
  }
 ],
 "metadata": {
  "kernelspec": {
   "display_name": "Python 3.6.13 ('mimii')",
   "language": "python",
   "name": "python3"
  },
  "language_info": {
   "name": "python",
   "version": "3.6.13"
  },
  "orig_nbformat": 4,
  "vscode": {
   "interpreter": {
    "hash": "4f12e7898b90381e4ec402c351ac6c6d197cb90703a893e89025fe6b12827262"
   }
  }
 },
 "nbformat": 4,
 "nbformat_minor": 2
}