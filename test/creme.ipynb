{
 "cells": [
  {
   "cell_type": "code",
   "execution_count": 2,
   "metadata": {
    "collapsed": true
   },
   "outputs": [
    {
     "data": {
      "text/plain": "Phishing dataset\n\n              Task  Binary classification                                                                           \n Number of samples  1,250                                                                                           \nNumber of features  9                                                                                               \n            Sparse  False                                                                                           \n              Path  /home/zzh/anaconda3/envs/industry_DL2/lib/python3.9/site-packages/creme/datasets/phishing.csv.gz"
     },
     "execution_count": 2,
     "metadata": {},
     "output_type": "execute_result"
    }
   ],
   "source": [
    "from creme import datasets\n",
    "A_b = datasets.Phishing()\n",
    "A_b"
   ]
  },
  {
   "cell_type": "code",
   "execution_count": 3,
   "outputs": [
    {
     "name": "stdout",
     "output_type": "stream",
     "text": [
      "{'age_of_domain': 1,\n",
      " 'anchor_from_other_domain': 0.0,\n",
      " 'empty_server_form_handler': 0.0,\n",
      " 'https': 0.0,\n",
      " 'ip_in_url': 1,\n",
      " 'is_popular': 0.5,\n",
      " 'long_url': 1.0,\n",
      " 'popup_window': 0.0,\n",
      " 'request_from_other_domain': 0.0}\n",
      "independent variable = True\n"
     ]
    }
   ],
   "source": [
    "from pprint import pprint\n",
    "for A, b in A_b:\n",
    "     pprint(A)\n",
    "     print(\"independent variable =\", b)\n",
    "     break"
   ],
   "metadata": {
    "collapsed": false
   }
  },
  {
   "cell_type": "code",
   "execution_count": 4,
   "outputs": [],
   "source": [
    "from creme import compose, linear_model, metrics, preprocessing"
   ],
   "metadata": {
    "collapsed": false
   }
  },
  {
   "cell_type": "code",
   "execution_count": 6,
   "outputs": [
    {
     "name": "stdout",
     "output_type": "stream",
     "text": [
      "Pipeline (\n",
      "  StandardScaler (),\n",
      "  LogisticRegression (\n",
      "    optimizer=SGD (\n",
      "      lr=Constant (\n",
      "        learning_rate=0.01\n",
      "      )\n",
      "    )\n",
      "    loss=Log (\n",
      "      weight_pos=1.\n",
      "      weight_neg=1.\n",
      "    )\n",
      "    l2=0.\n",
      "    intercept=0.\n",
      "    intercept_lr=Constant (\n",
      "      learning_rate=0.01\n",
      "    )\n",
      "    clip_gradient=1e+12\n",
      "    initializer=Zeros ()\n",
      "  )\n",
      ")\n"
     ]
    }
   ],
   "source": [
    "lm = compose.Pipeline(\n",
    "     preprocessing.StandardScaler(),\n",
    "     linear_model.LogisticRegression()\n",
    ")\n",
    "pprint(lm)"
   ],
   "metadata": {
    "collapsed": false
   }
  },
  {
   "cell_type": "code",
   "execution_count": 8,
   "outputs": [],
   "source": [
    "metric =  metrics.Accuracy()"
   ],
   "metadata": {
    "collapsed": false
   }
  },
  {
   "cell_type": "code",
   "execution_count": 9,
   "outputs": [],
   "source": [
    "for A, b in A_b:\n",
    "     pred = lm.predict_one(A)\n",
    "     metric = metric.update(b, pred)\n",
    "     model = lm.fit_one(A, b)"
   ],
   "metadata": {
    "collapsed": false
   }
  },
  {
   "cell_type": "code",
   "execution_count": 10,
   "outputs": [
    {
     "name": "stdout",
     "output_type": "stream",
     "text": [
      "Accuracy: 89.20%\n"
     ]
    }
   ],
   "source": [
    "print(metric)"
   ],
   "metadata": {
    "collapsed": false
   }
  }
 ],
 "metadata": {
  "kernelspec": {
   "display_name": "Python 3",
   "language": "python",
   "name": "python3"
  },
  "language_info": {
   "codemirror_mode": {
    "name": "ipython",
    "version": 2
   },
   "file_extension": ".py",
   "mimetype": "text/x-python",
   "name": "python",
   "nbconvert_exporter": "python",
   "pygments_lexer": "ipython2",
   "version": "2.7.6"
  }
 },
 "nbformat": 4,
 "nbformat_minor": 0
}
